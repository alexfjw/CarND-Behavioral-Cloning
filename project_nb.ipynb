{
 "cells": [
  {
   "cell_type": "code",
   "execution_count": 1,
   "metadata": {},
   "outputs": [],
   "source": [
    "import cv2\n",
    "import csv\n",
    "import numpy as np\n",
    "import os\n",
    "import sklearn"
   ]
  },
  {
   "cell_type": "code",
   "execution_count": 2,
   "metadata": {},
   "outputs": [],
   "source": [
    "def pull_rows_from_log(path):\n",
    "    rows = []\n",
    "    with open(path + '/driving_log.csv') as csv_file:\n",
    "        reader = csv.reader(csv_file)\n",
    "        next(reader, None)\n",
    "        for line in reader:\n",
    "            rows.append(line)\n",
    "    return rows"
   ]
  },
  {
   "cell_type": "code",
   "execution_count": 3,
   "metadata": {},
   "outputs": [],
   "source": [
    "# get images locations by using the various csv files as markers\n",
    "def get_all_images(path):\n",
    "    raw_dirs = [x[0] for x in os.walk(path)]\n",
    "    data_dirs = list(filter(lambda x: os.path.isfile(x + '/driving_log.csv'), raw_dirs))\n",
    "    center = []\n",
    "    left = []\n",
    "    right = []\n",
    "    angle = []\n",
    "    for directory in data_dirs:\n",
    "        rows = pull_rows_from_log(directory)\n",
    "        for row in rows:\n",
    "            center.append(directory + '/' + row[0].strip())\n",
    "            left.append(directory + '/' + row[1].strip())\n",
    "            right.append(directory + '/' + row[2].strip())\n",
    "            angle.append(float(row[3]))\n",
    "\n",
    "    return center, left, right, angle\n",
    "\n",
    "def stack_all_images(center, left, right, angle, correction):\n",
    "    img_paths = []\n",
    "    img_paths.extend(center)\n",
    "    img_paths.extend(left)\n",
    "    img_paths.extend(right)\n",
    "    angles = []\n",
    "    angles.extend(angle)\n",
    "    angles.extend([x + correction for x in angle])\n",
    "    angles.extend([x - correction for x in angle])\n",
    "    return img_paths, angles\n"
   ]
  },
  {
   "cell_type": "code",
   "execution_count": 4,
   "metadata": {},
   "outputs": [],
   "source": [
    "def generator(samples, batch_size=32):\n",
    "    num_samples = len(samples)\n",
    "    while True: \n",
    "        samples = sklearn.utils.shuffle(samples)\n",
    "        for offset in range(0, num_samples, batch_size):\n",
    "            batch_samples = samples[offset:offset+batch_size]\n",
    "\n",
    "            imgs = []\n",
    "            angles = []\n",
    "            for img_path, angle in batch_samples:\n",
    "                original_img = cv2.imread(img_path)\n",
    "                img = cv2.cvtColor(original_img, cv2.COLOR_BGR2RGB)\n",
    "                imgs.append(img)\n",
    "                angles.append(angle)\n",
    "                # flip for data augmentation\n",
    "                imgs.append(cv2.flip(img,1))\n",
    "                angles.append(angle*-1.0)\n",
    "\n",
    "            inputs = np.array(imgs)\n",
    "            outputs = np.array(angles)\n",
    "            yield sklearn.utils.shuffle(inputs, outputs)"
   ]
  },
  {
   "cell_type": "code",
   "execution_count": 2,
   "metadata": {},
   "outputs": [
    {
     "name": "stderr",
     "output_type": "stream",
     "text": [
      "Using TensorFlow backend.\n"
     ]
    }
   ],
   "source": [
    "from keras.layers.pooling import MaxPooling2D\n",
    "from keras.layers import Flatten, Dense, Lambda, Convolution2D, Cropping2D\n",
    "from keras.models import Sequential, Model\n",
    "import matplotlib.pyplot as plt\n",
    "from sklearn.model_selection import train_test_split"
   ]
  },
  {
   "cell_type": "code",
   "execution_count": 6,
   "metadata": {},
   "outputs": [],
   "source": [
    "def nvidia_drive():\n",
    "    model = Sequential()\n",
    "    model.add(Lambda(lambda x: (x/255.0) - 0.5, input_shape=(160,320,3)))\n",
    "    model.add(Cropping2D(cropping=((50,20), (0,0))))\n",
    "    model.add(Convolution2D(24,5,5, subsample=(2,2), activation='relu'))\n",
    "    model.add(Convolution2D(36,5,5, subsample=(2,2), activation='relu'))\n",
    "    model.add(Convolution2D(48,5,5, subsample=(2,2), activation='relu'))\n",
    "    model.add(Convolution2D(64,3,3, activation='relu'))\n",
    "    model.add(Convolution2D(64,3,3, activation='relu'))\n",
    "    model.add(Flatten())\n",
    "    model.add(Dense(100))\n",
    "    model.add(Dense(50))\n",
    "    model.add(Dense(10))\n",
    "    model.add(Dense(1))\n",
    "    return model"
   ]
  },
  {
   "cell_type": "code",
   "execution_count": 7,
   "metadata": {
    "scrolled": true
   },
   "outputs": [
    {
     "name": "stdout",
     "output_type": "stream",
     "text": [
      "Num Images: 37758\n"
     ]
    }
   ],
   "source": [
    "center_paths, left_paths, right_paths, angles = get_all_images('data')\n",
    "image_paths, measurements = stack_all_images(center_paths, \n",
    "                                            left_paths,\n",
    "                                            right_paths,\n",
    "                                            angles,\n",
    "                                            0.2)\n",
    "print('Num Images: {}'.format(len(image_paths)))"
   ]
  },
  {
   "cell_type": "code",
   "execution_count": 8,
   "metadata": {},
   "outputs": [
    {
     "name": "stdout",
     "output_type": "stream",
     "text": [
      "Num train: 30206\n",
      "Num validation: 7552\n"
     ]
    }
   ],
   "source": [
    "all_samples = list(zip(image_paths, angles))\n",
    "train_samples, val_samples = train_test_split(all_samples, test_size=0.2)\n",
    "\n",
    "print('Num train: {}'.format(len(train_samples)))\n",
    "print('Num validation: {}'.format(len(validation_samples)))"
   ]
  },
  {
   "cell_type": "code",
   "execution_count": 9,
   "metadata": {},
   "outputs": [],
   "source": [
    "train_generator = generator(train_samples, batch_size=32)\n",
    "validation_generator = generator(validation_samples, batch_size=32)"
   ]
  },
  {
   "cell_type": "code",
   "execution_count": 12,
   "metadata": {
    "scrolled": false
   },
   "outputs": [
    {
     "name": "stderr",
     "output_type": "stream",
     "text": [
      "/Users/alex/miniconda3/envs/carnd-term1/lib/python3.5/site-packages/ipykernel_launcher.py:5: UserWarning: Update your `Conv2D` call to the Keras 2 API: `Conv2D(24, (5, 5), strides=(2, 2), activation=\"relu\")`\n",
      "  \"\"\"\n",
      "/Users/alex/miniconda3/envs/carnd-term1/lib/python3.5/site-packages/ipykernel_launcher.py:6: UserWarning: Update your `Conv2D` call to the Keras 2 API: `Conv2D(36, (5, 5), strides=(2, 2), activation=\"relu\")`\n",
      "  \n",
      "/Users/alex/miniconda3/envs/carnd-term1/lib/python3.5/site-packages/ipykernel_launcher.py:7: UserWarning: Update your `Conv2D` call to the Keras 2 API: `Conv2D(48, (5, 5), strides=(2, 2), activation=\"relu\")`\n",
      "  import sys\n",
      "/Users/alex/miniconda3/envs/carnd-term1/lib/python3.5/site-packages/ipykernel_launcher.py:8: UserWarning: Update your `Conv2D` call to the Keras 2 API: `Conv2D(64, (3, 3), activation=\"relu\")`\n",
      "  \n",
      "/Users/alex/miniconda3/envs/carnd-term1/lib/python3.5/site-packages/ipykernel_launcher.py:9: UserWarning: Update your `Conv2D` call to the Keras 2 API: `Conv2D(64, (3, 3), activation=\"relu\")`\n",
      "  if __name__ == '__main__':\n"
     ]
    },
    {
     "name": "stdout",
     "output_type": "stream",
     "text": [
      "Epoch 1/1\n",
      "30206/30206 [==============================] - 2648s 88ms/step - loss: 0.0079 - val_loss: 0.0112\n"
     ]
    }
   ],
   "source": [
    "model = nvidia_drive()\n",
    "model.compile(loss='mse', optimizer='adam')\n",
    "train_history = model.fit_generator(train_generator,\n",
    "                                    len(train_samples),\n",
    "                                    epochs=1,\n",
    "                                    verbose=1,\n",
    "                                    validation_data=validation_generator,\n",
    "                                    validation_steps=len(validation_samples))\n",
    "\n",
    "model.save('model.h5')\n"
   ]
  },
  {
   "cell_type": "code",
   "execution_count": null,
   "metadata": {},
   "outputs": [],
   "source": []
  }
 ],
 "metadata": {
  "kernelspec": {
   "display_name": "Python (carnd-t1)",
   "language": "python",
   "name": "carnd-t1"
  },
  "language_info": {
   "codemirror_mode": {
    "name": "ipython",
    "version": 3
   },
   "file_extension": ".py",
   "mimetype": "text/x-python",
   "name": "python",
   "nbconvert_exporter": "python",
   "pygments_lexer": "ipython3",
   "version": "3.5.2"
  },
  "widgets": {
   "state": {},
   "version": "1.1.2"
  }
 },
 "nbformat": 4,
 "nbformat_minor": 2
}
